{
 "cells": [
  {
   "cell_type": "code",
   "execution_count": null,
   "id": "5b3decae",
   "metadata": {},
   "outputs": [],
   "source": [
    "import json\n",
    "import matplotlib.pyplot as plt\n",
    "\n",
    "with open('dataset.json', 'r', encoding='utf-8') as f:\n",
    "    data = json.load(f)\n",
    "\n",
    "models = [\"gpt4_1_solution\", \"...\"]\n",
    "stride = 100\n",
    "n = len(data)\n",
    "segments = [(i, min(i + stride, n)) for i in range(0, n, stride)]\n",
    "\n",
    "accuracy_data = {model: [] for model in models}\n",
    "labels = []\n",
    "\n",
    "for start, end in segments:\n",
    "    print(f\"\\nEvaluating entries {start} to {end - 1}\")\n",
    "    labels.append(f\"{start}-{end-1}\")\n",
    "    results = {model: {\"correct\": 0, \"total\": 0} for model in models}\n",
    "    for entry in data[start:end]:\n",
    "        solution = entry.get(\"solution\")\n",
    "        if not solution:\n",
    "            continue\n",
    "        for model in models:\n",
    "            model_answer = entry.get(model)\n",
    "            if model_answer:\n",
    "                results[model][\"total\"] += 1\n",
    "                if model_answer == solution:\n",
    "                    results[model][\"correct\"] += 1\n",
    "    for model in models:\n",
    "        correct = results[model][\"correct\"]\n",
    "        total = results[model][\"total\"]\n",
    "        accuracy = correct / total * 100 if total else 0\n",
    "        accuracy_data[model].append(accuracy)\n",
    "        print(f\"{model}: {accuracy:.2f}% accuracy ({correct}/{total})\")\n",
    "\n",
    "x = range(len(labels))\n",
    "plt.figure(figsize=(12, 6))\n",
    "for model in models:\n",
    "    plt.plot(x, accuracy_data[model], marker='o', label=model)\n",
    "plt.xticks(x, labels, rotation=45)\n",
    "plt.xlabel(\"Problem Range\")\n",
    "plt.ylabel(\"Accuracy (%)\")\n",
    "plt.title(\"Model Accuracy Across Problem Ranges\")\n",
    "plt.legend()\n",
    "plt.tight_layout()\n",
    "plt.grid(True)\n",
    "plt.show()"
   ]
  }
 ],
 "metadata": {
  "kernelspec": {
   "display_name": "Python 3",
   "language": "python",
   "name": "python3"
  },
  "language_info": {
   "codemirror_mode": {
    "name": "ipython",
    "version": 3
   },
   "file_extension": ".py",
   "mimetype": "text/x-python",
   "name": "python",
   "nbconvert_exporter": "python",
   "pygments_lexer": "ipython3",
   "version": "3.9.13"
  }
 },
 "nbformat": 4,
 "nbformat_minor": 5
}
